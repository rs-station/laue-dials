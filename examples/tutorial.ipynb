{
 "cells": [
  {
   "cell_type": "markdown",
   "id": "c566775b-2672-4bad-a9ac-2dfdac0fca41",
   "metadata": {},
   "source": [
    "# Installation\n",
    "\n",
    "The easiest way to install `laue-dials` and its dependencies is using [Anaconda](https://docs.anaconda.com/free/anaconda/install/index.html). First you should update and install the libmamba solver with\n",
    "\n",
    "```\n",
    "conda update -n base conda\n",
    "conda install -n base conda-libmamba-solver\n",
    "conda config --set solver libmamba\n",
    "```\n",
    "\n",
    "With Anaconda, you can then create and activate a custom environment for your install by running  \n",
    "\n",
    "```\n",
    "conda create --name laue-dials\n",
    "conda activate laue-dials\n",
    "```\n",
    "\n",
    "Now you are ready to install the main dependency and framework: [DIALS](https://dials.github.io). After installing that, you can install `laue-dials` using pip, as below:\n",
    "\n",
    "```\n",
    "conda install -c conda-forge dials\n",
    "pip install laue-dials\n",
    "```\n",
    "\n",
    "All other dependencies will then be automatically installed for you, and you'll be ready to analyze your first Laue data set! Reopen this notebook with the appropriate environment activated when ready.\n",
    "\n",
    "Documentation for `laue-dials` can be found at [here](https://rs-station.github.io/laue-dials/index.html), and entering a command with no arguments on the command line will also print a help page!"
   ]
  },
  {
   "cell_type": "markdown",
   "id": "50269767-09e6-448a-9e8e-8562ba87604d",
   "metadata": {},
   "source": [
    "# Importing Data\n",
    "\n",
    "We can use `dials.import` as a way to import the data files written at experimental facilities into a format that is friendly to both `DIALS` and `laue-dials`. Feel free to use any data set you'd like below, but a [sample DHFR data set](https://zenodo.org/record/6407157) has been uploaded to zenodo for your convenience, and this notebook has been tested using that dataset.\n",
    "\n",
    "### Masks\n",
    "\n",
    "Note that if you make a mask later in the pipeline (using `dials.image_viewer` or any other tool), you will need to either return to this step and use the `lookup.mask=\"FILENAME\"` option or use `dials.apply_mask` to files prior to running `laue.predict`."
   ]
  },
  {
   "cell_type": "code",
   "execution_count": null,
   "id": "6f84f097-1d3e-4d26-ad3d-2bef23dee63f",
   "metadata": {
    "scrolled": true,
    "tags": []
   },
   "outputs": [],
   "source": [
    "%%time\n",
    "%%bash\n",
    "\n",
    "# Import data\n",
    "# You may need to change some of these values to match your data set\n",
    "dials.import geometry.scan.oscillation=0,1 \\\n",
    "    geometry.goniometer.axes=0,1,0 \\\n",
    "    geometry.beam.wavelength=1.04 \\\n",
    "    geometry.detector.panel.pixel=0.08854,0.08854 \\\n",
    "    lookup.mask=\"pixels.mask\" \\\n",
    "    input.template=\"PATH/TO/DATA/e080_###.mccd\" # Replace with the path to your raw data"
   ]
  },
  {
   "cell_type": "markdown",
   "id": "c7137b40-e10e-43f8-a66d-67113f712980",
   "metadata": {},
   "source": [
    "# Getting an Initial Estimate\n",
    "\n",
    "After importing our data, the first thing we need to do is get an initial estimate for the experimental geometry. Here, we'll use some monochromatic algorithms from DIALS to help! This step can be tricky -- failure can be due to several causes. In the event of failure, here are a few common causes:\n",
    "\n",
    "1. The spotfinding gain is either too high or too low. Try looking at the results of `dials.image_viewer imported.expt strong.refl` and seeing if you have too many (or too few) reflections. Lower gain gives you more spots, but also more likely to give false positives.\n",
    "2. Supplying the space group or unit cell during indexing can be helpful. When supplying the unit cell, allow for some variation in the lengths of the axes, since the monochromatic algorithms may result in a slightly scaled unit cell depending on the chosen wavelength.\n",
    "3. You may have intensities that need to be masked. These can come from bad panels or extraneous scatter. You can use `dials.image_viewer` (described below) to create a mask file for your data, and then provide the `spotfinder.lookup.mask=\"pixels.mask\"` command below to use that mask during spotfinding."
   ]
  },
  {
   "cell_type": "code",
   "execution_count": null,
   "id": "887213ac-3883-4492-8f92-78126129f37a",
   "metadata": {
    "scrolled": true,
    "tags": []
   },
   "outputs": [],
   "source": [
    "%%time\n",
    "%%bash\n",
    "\n",
    "laue.find_spots imported.expt \\\n",
    "    spotfinder.mp.nproc=8 \\\n",
    "    spotfinder.threshold.dispersion.gain=0.35 \\\n",
    "    spotfinder.filter.max_separation=10 \\\n",
    "    lookup.mask=\"pixels.mask\""
   ]
  },
  {
   "cell_type": "code",
   "execution_count": null,
   "id": "bbd85bba-e987-47e0-8338-85b9ae0d691c",
   "metadata": {
    "scrolled": true,
    "tags": []
   },
   "outputs": [],
   "source": [
    "%%time\n",
    "%%bash\n",
    "\n",
    "laue.index imported.expt strong.refl \\\n",
    "    indexer.indexing.known_symmetry.space_group=19 \\\n",
    "    indexer.indexing.refinement_protocol.mode=refine_shells \\\n",
    "    indexer.refinement.parameterisation.auto_reduction.action=fix \\\n",
    "    laue_output.index_only=False"
   ]
  },
  {
   "cell_type": "markdown",
   "id": "7e4678da-294d-40cc-b88b-7137ad7ef6e5",
   "metadata": {},
   "source": [
    "# Viewing Images\n",
    "\n",
    "Sometimes it's helpful to be able to see the analysis data overlayed on the raw data. DIALS has a utility for viewing spot information on the raw images called `dials.image_viewer`. For example, the spotfinding gain parameter can be tuned to capture more spots, but lowering it too much finds nonexistent spots. To check this, we can use the image viewer to see what spots were found on images. We need to provide an `expt` file and a `refl` file -- the `imported.expt` and `strong.refl` files will do for checking spotfinding. This program also has utilities for generating masks if they are needed. The red dots from the checkbox \"Mark centers of mass\" are the spots found by `laue.find_spots` (which in turn makes a call to `dials.find_spots`). These are best used for judging whether you need to adjust the gain higher (for fewer spots) or lower (for more) during spotfinding. You can find more details on the image viewer in the [DIALS tutorial here](https://dials.github.io/documentation/tutorials/processing_in_detail_betalactamase.html)."
   ]
  },
  {
   "cell_type": "code",
   "execution_count": null,
   "id": "d976c4ea-c674-42b1-b7bc-a7a36bec8861",
   "metadata": {},
   "outputs": [],
   "source": [
    "%%time\n",
    "%%bash\n",
    "\n",
    "dials.image_viewer imported.expt strong.refl"
   ]
  },
  {
   "cell_type": "markdown",
   "id": "3766edd9-c6d8-4c20-acc0-22f95f9e549e",
   "metadata": {},
   "source": [
    "# Making Stills\n",
    "\n",
    "Here we will now split our monochromatic estimate into a series of stills to prepare it for the polychromatic pipeline. There is a useful utility called `laue.sequence_to_stills` for this.\n",
    "\n",
    "NOTE: Do not use `dials.sequence_to_stills`, as there are data columns which do not match between the two programs."
   ]
  },
  {
   "cell_type": "code",
   "execution_count": null,
   "id": "6a5d19c3-db92-4635-aeea-006456656ca7",
   "metadata": {},
   "outputs": [],
   "source": [
    "%%time\n",
    "%%bash\n",
    "\n",
    "laue.sequence_to_stills monochromatic.*"
   ]
  },
  {
   "cell_type": "markdown",
   "id": "fe8411d3-f6b3-4c54-a042-2f6110aeaef3",
   "metadata": {},
   "source": [
    "# Polychromatic Analysis\n",
    "\n",
    "Here we will use four other programs in `laue-dials` to create a polychromatic experimental geometry using our initial monochromatic estimate. Each of the programs does the following:\n",
    "\n",
    "`laue.optimize_indexing` assigns wavelengths to reflections and refines the crystal orientation jointly.\n",
    "\n",
    "`laue.refine` is a polychromatic wrapper for `dials.refine` and allows for refining the experimental geometry overall to one suitable for spot prediction and integration.\n",
    "\n",
    "`laue.predict` takes the refined experimental geometry and predicts the centroids of all strong and weak reflections on the detector.\n",
    "\n",
    "`laue.integrate` then builds spot profiles and integrates intensities on the detector."
   ]
  },
  {
   "cell_type": "code",
   "execution_count": null,
   "id": "3011e012-9e90-4334-9647-7f8f29cf8461",
   "metadata": {
    "scrolled": true,
    "tags": []
   },
   "outputs": [],
   "source": [
    "%%time\n",
    "%%bash\n",
    "\n",
    "N=12 # Max multiprocessing\n",
    "laue.optimize_indexing stills.* \\\n",
    "    output.experiments=\"optimized.expt\" \\\n",
    "    output.reflections=\"optimized.refl\" \\\n",
    "    output.log=\"laue.optimize_indexing.log\" \\\n",
    "    wavelengths.lam_min=0.95 \\\n",
    "    wavelengths.lam_max=1.15 \\\n",
    "    reciprocal_grid.d_min=1.4 \\\n",
    "    nproc=$N"
   ]
  },
  {
   "cell_type": "code",
   "execution_count": null,
   "id": "ad8b015b-8bee-42a2-9330-d2bac5273b0e",
   "metadata": {
    "scrolled": true,
    "tags": []
   },
   "outputs": [],
   "source": [
    "%%time\n",
    "%%bash\n",
    "\n",
    "N=8 # Max multiprocessing\n",
    "laue.refine optimized.* \\\n",
    "    output.experiments=\"poly_refined.expt\" \\\n",
    "    output.reflections=\"poly_refined.refl\" \\\n",
    "    output.log=\"laue.poly_refined.log\" \\\n",
    "    nproc=$N"
   ]
  },
  {
   "cell_type": "markdown",
   "id": "c70b84c0-e9be-4f86-a79c-4055b0454467",
   "metadata": {
    "collapsed": true,
    "jupyter": {
     "outputs_hidden": true
    },
    "tags": []
   },
   "source": [
    "## Checking the Wavelength Spectrum\n",
    "\n",
    "`laue.plot_wavelengths` allows you to plot the wavelengths assigned in stored in a reflection table. The histogram of these reflections should resemble the beam spectrum, so this is a good check to do at this time! "
   ]
  },
  {
   "cell_type": "code",
   "execution_count": null,
   "id": "de21c592-b2cc-4110-a6e9-c89cb3a5fe32",
   "metadata": {
    "scrolled": true,
    "tags": []
   },
   "outputs": [],
   "source": [
    "%%time\n",
    "%%bash\n",
    "\n",
    "laue.plot_wavelengths poly_refined.refl refined_only=True save=True show=False"
   ]
  },
  {
   "cell_type": "code",
   "execution_count": null,
   "id": "45ebc809-2d3c-42d6-846f-d020739c04c7",
   "metadata": {
    "scrolled": true,
    "tags": []
   },
   "outputs": [],
   "source": [
    "from IPython.display import Image\n",
    "Image(filename='wavelengths.png') "
   ]
  },
  {
   "cell_type": "markdown",
   "id": "d539d272-9746-457c-9c2b-a65975b5b2f0",
   "metadata": {
    "tags": []
   },
   "source": [
    "## DIALS Reports\n",
    "\n",
    "DIALS has a utility that gives useful information on various diagnostics you may be interested in while analyzing your data. The program `dials.report` generates an HTML file you can open to see information and plots regarding the status of your analyzed data. You can run it on any files generated by `DIALS` or `laue-dials`. "
   ]
  },
  {
   "cell_type": "code",
   "execution_count": null,
   "id": "835ca5c3-7562-4599-9377-108ad25085b4",
   "metadata": {},
   "outputs": [],
   "source": [
    "%%time\n",
    "%%bash\n",
    "\n",
    "dials.report poly_refined.expt poly_refined.refl"
   ]
  },
  {
   "cell_type": "markdown",
   "id": "36dd794c-d101-4295-8307-1e4d34bb8122",
   "metadata": {},
   "source": [
    "# Integrating Spots\n",
    "\n",
    "Now that we have a refined experiment model, we can use `laue.predict` and `laue.integrate` to get integrated intensities from the data. We will predict the locations of all feasible spots on the detector given our refined experiment model, and at each of those locations we will integrate the intensities to get an `mtz` file that we can feed into `careless`."
   ]
  },
  {
   "cell_type": "code",
   "execution_count": null,
   "id": "f777ddaa-a3bc-4784-a825-f9a4d57bd13d",
   "metadata": {
    "scrolled": true,
    "tags": []
   },
   "outputs": [],
   "source": [
    "%%time\n",
    "%%bash\n",
    "\n",
    "N=8 # Max multiprocessing\n",
    "laue.predict poly_refined.* \\\n",
    "    output.reflections=\"predicted.refl\" \\\n",
    "    output.log=\"laue.predict.log\" \\\n",
    "    wavelengths.lam_min=0.95 \\\n",
    "    wavelengths.lam_max=1.15 \\\n",
    "    reciprocal_grid.d_min=1.4 \\\n",
    "    nproc=$N"
   ]
  },
  {
   "cell_type": "code",
   "execution_count": null,
   "id": "48273edc-a8f6-400c-a8d5-41f50fe936ec",
   "metadata": {
    "scrolled": true,
    "tags": []
   },
   "outputs": [],
   "source": [
    "%%time\n",
    "%%bash\n",
    "\n",
    "N=8 # Max multiprocessing\n",
    "laue.integrate poly_refined.expt predicted.refl \\\n",
    "    output.filename=\"integrated.mtz\" \\\n",
    "    output.log=\"laue.integrate.log\" \\\n",
    "    nproc=$N"
   ]
  },
  {
   "cell_type": "markdown",
   "id": "321a3447-1d39-471e-ab7b-e2203edf402a",
   "metadata": {},
   "source": [
    "# Conclusion\n",
    "\n",
    "At this point, you now have an integrated `mtz` file that you can pass to [careless](https://github.com/rs-station/careless) for scaling and merging. Note that throughout this pipeline, you can use DIALS utilities like `dials.image_viewer` or `dials.report` to check progress and ensure your data is being analyzed properly. We recommend regularly checking the analysis by looking at the data on images, which can be done by\n",
    "\n",
    "`dials.image_viewer FILE.expt FILE.refl`.\n",
    "\n",
    "These files are generally written as pairs with the same base name, with the exception of combining `imported.expt` + `strong.refl`, or `poly_refined.expt` + `predicted.refl`.\n",
    "\n",
    "Also note that you can take any program and enter it on the command-line for further help. For example, writing\n",
    "\n",
    "`laue.optimize_indexing`\n",
    "\n",
    "will print a help page for the program. You can see all configurable parameters by using \n",
    "\n",
    "`laue.optimize_indexing -c`.\n",
    "\n",
    "This applies to all `laue-dials` command-line programs.\n",
    "\n",
    "Congratulations! This tutorial is now over. For further questions, feel free to consult documentation or email the [authors](https://pypi.org/project/laue-dials/)."
   ]
  }
 ],
 "metadata": {
  "kernelspec": {
   "display_name": "Python 3 (ipykernel)",
   "language": "python",
   "name": "python3"
  },
  "language_info": {
   "codemirror_mode": {
    "name": "ipython",
    "version": 3
   },
   "file_extension": ".py",
   "mimetype": "text/x-python",
   "name": "python",
   "nbconvert_exporter": "python",
   "pygments_lexer": "ipython3",
   "version": "3.11.6"
  }
 },
 "nbformat": 4,
 "nbformat_minor": 5
}
